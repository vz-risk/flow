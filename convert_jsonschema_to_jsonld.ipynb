{
 "cells": [
  {
   "cell_type": "code",
   "execution_count": 3,
   "id": "2f9ba2a4",
   "metadata": {
    "ExecuteTime": {
     "end_time": "2022-02-01T17:21:51.684873Z",
     "start_time": "2022-02-01T17:21:51.359500Z"
    }
   },
   "outputs": [],
   "source": [
    "import json\n",
    "import sys\n",
    "import os\n",
    "from urllib.parse import quote, unquote\n",
    "import re\n",
    "sys.path.append(\"/Users/v685573/Documents/Development/vzrisk/flow/\")  # where rdfaf is\n",
    "import rdfaf"
   ]
  },
  {
   "cell_type": "code",
   "execution_count": 4,
   "id": "75bc9577",
   "metadata": {
    "ExecuteTime": {
     "end_time": "2022-02-01T17:21:51.691816Z",
     "start_time": "2022-02-01T17:21:51.688147Z"
    }
   },
   "outputs": [],
   "source": [
    "NAMESPACE = \"https://vz-risk.github.io/flow/attack-flow#\"\n",
    "CASEFILES = ['/Users/v685573/Documents/mitre/attack flow/attack-flow/corpus/tesla.json',\n",
    "             '/Users/v685573/Documents/mitre/attack flow/attack-flow/corpus/cobalt-kitty-attack-flow.json',\n",
    "             '/Users/v685573/Documents/mitre/attack flow/attack-flow/corpus/dfir_report_zero_to_domain_admin.json'\n",
    "            ]\n",
    "CASEFILE = CASEFILES[2]\n",
    "AF_SCHEMA_JSONSCHEMA = \"/Users/v685573/Documents/mitre/attack flow/attack-flow/schema/attack-flow-2022-01-05-draft.json\"\n",
    "AF_SCHEMA_JSONLD = \"/Users/v685573/Documents/Development/vzrisk/flow/attack_flow.jsonld\"\n",
    "OUTDIR = \"/Users/v685573/Documents/Development/vzrisk/flow/corpus/\""
   ]
  },
  {
   "cell_type": "code",
   "execution_count": 5,
   "id": "9b7d0b3c",
   "metadata": {
    "ExecuteTime": {
     "end_time": "2022-02-01T17:21:51.713086Z",
     "start_time": "2022-02-01T17:21:51.694521Z"
    }
   },
   "outputs": [],
   "source": [
    "### We have to do this to produce a consistent namespace for the flow itself.\n",
    "### The flow should be in an absolute namespace associated with the victim.\n",
    "\n",
    "# Create a unique namespace\n",
    "incident_namespace = \"urn:absolute:{0}#\".format(os.path.splitext(os.path.split(CASEFILE)[-1])[0])\n",
    "incident_namespace = re.sub(\"[^0-9a-zA-Z_.\\-~]+\", \"_\", incident_namespace)\n",
    "incident_namespace = quote(incident_namespace)\n",
    "\n",
    "with open(CASEFILE, 'r') as filehandle:\n",
    "    cfj = json.load(filehandle)\n",
    "cfj['flow']['id'] = NAMESPACE + cfj['flow']['id'].split(\"//\")[-1].split(\"#\")[-1]\n",
    "# The CK URIs are a bit messy so moving into the same namespace\n",
    "for i in range(len(cfj['actions'])):\n",
    "    action = cfj['actions'][i]\n",
    "    action['id'] = NAMESPACE + action['id'].split(\"//\")[-1].split(\"#\")[-1]\n",
    "    cfj['actions'][i] = action\n",
    "for i in range(len(cfj['assets'])):\n",
    "    asset = cfj['assets'][i]\n",
    "    asset['id'] = NAMESPACE + asset['id'].split(\"//\")[-1].split(\"#\")[-1]\n",
    "    cfj['assets'][i] = asset\n",
    "for i in range(len(cfj['relationships'])):\n",
    "    rel = cfj['relationships'][i]\n",
    "    rel['source'] = NAMESPACE + rel['source'].split(\"//\")[-1].split(\"#\")[-1]\n",
    "    rel['type'] = NAMESPACE + rel['type'].split(\"//\")[-1].split(\"#\")[-1]\n",
    "    rel['target'] = NAMESPACE + rel['target'].split(\"//\")[-1].split(\"#\")[-1]\n",
    "    cfj['relationships'][i] = rel\n",
    "for i in range(len(cfj['object_properties'])):\n",
    "    prop = cfj['object_properties'][i]\n",
    "    prop['source'] = NAMESPACE + prop['source'].split(\"//\")[-1].split(\"#\")[-1]\n",
    "    prop['type'] = NAMESPACE + prop['type'].split(\"//\")[-1].split(\"#\")[-1]\n",
    "    prop['target'] = NAMESPACE + prop['target'].split(\"//\")[-1].split(\"#\")[-1]\n",
    "    cfj['object_properties'][i] = prop\n",
    "for i in range(len(cfj['data_properties'])):\n",
    "    prop = cfj['data_properties'][i]\n",
    "    prop['source'] = NAMESPACE + prop['source'].split(\"//\")[-1].split(\"#\")[-1]\n",
    "    prop['type'] = NAMESPACE + prop['type'].split(\"//\")[-1].split(\"#\")[-1]\n",
    "    prop['target'] = NAMESPACE + prop['target'].split(\"//\")[-1].split(\"#\")[-1]\n",
    "    cfj['data_properties'][i] = prop"
   ]
  },
  {
   "cell_type": "code",
   "execution_count": 6,
   "id": "59c03cc8",
   "metadata": {
    "ExecuteTime": {
     "end_time": "2022-02-01T17:21:51.767921Z",
     "start_time": "2022-02-01T17:21:51.717298Z"
    }
   },
   "outputs": [],
   "source": [
    "###\n",
    "\n",
    "# create the flow object\n",
    "case = rdfaf_v2_6_1.flow()\n",
    "# load the namespace\n",
    "case.load_namespace(NAMESPACE)\n",
    "\n",
    "with open(AF_SCHEMA_JSONSCHEMA, 'r') as filehandle:\n",
    "    case.load_schema(json.load(filehandle))\n",
    "\n",
    "rules = rdfaf_v2_6_1.Graph()\n",
    "rules.parse(AF_SCHEMA_JSONLD, format=\"json-ld\")\n",
    "case.load_rules(rules)\n",
    "# load the flow\n",
    "case.load_flow(cfj)"
   ]
  },
  {
   "cell_type": "code",
   "execution_count": 7,
   "id": "2ddb92a7",
   "metadata": {
    "ExecuteTime": {
     "end_time": "2022-02-01T17:21:51.797320Z",
     "start_time": "2022-02-01T17:21:51.770271Z"
    }
   },
   "outputs": [],
   "source": [
    "filename = os.path.splitext(os.path.split(CASEFILE)[-1])[0]\n",
    "fileExt = \".jsonld\"\n",
    "with open(OUTDIR + filename + fileExt, 'w') as filehandle:\n",
    "    filehandle.write(case.get_flow_graph(rules=False).serialize(format=\"json-ld\"))"
   ]
  },
  {
   "cell_type": "code",
   "execution_count": null,
   "id": "06e0f024",
   "metadata": {},
   "outputs": [],
   "source": []
  }
 ],
 "metadata": {
  "kernelspec": {
   "display_name": "Python 3",
   "language": "python",
   "name": "python3"
  },
  "language_info": {
   "codemirror_mode": {
    "name": "ipython",
    "version": 3
   },
   "file_extension": ".py",
   "mimetype": "text/x-python",
   "name": "python",
   "nbconvert_exporter": "python",
   "pygments_lexer": "ipython3",
   "version": "3.9.7"
  },
  "toc": {
   "base_numbering": 1,
   "nav_menu": {},
   "number_sections": true,
   "sideBar": true,
   "skip_h1_title": false,
   "title_cell": "Table of Contents",
   "title_sidebar": "Contents",
   "toc_cell": false,
   "toc_position": {},
   "toc_section_display": true,
   "toc_window_display": false
  },
  "varInspector": {
   "cols": {
    "lenName": 16,
    "lenType": 16,
    "lenVar": 40
   },
   "kernels_config": {
    "python": {
     "delete_cmd_postfix": "",
     "delete_cmd_prefix": "del ",
     "library": "var_list.py",
     "varRefreshCmd": "print(var_dic_list())"
    },
    "r": {
     "delete_cmd_postfix": ") ",
     "delete_cmd_prefix": "rm(",
     "library": "var_list.r",
     "varRefreshCmd": "cat(var_dic_list()) "
    }
   },
   "types_to_exclude": [
    "module",
    "function",
    "builtin_function_or_method",
    "instance",
    "_Feature"
   ],
   "window_display": false
  }
 },
 "nbformat": 4,
 "nbformat_minor": 5
}
