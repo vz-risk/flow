{
 "cells": [
  {
   "cell_type": "code",
   "execution_count": 120,
   "metadata": {
    "ExecuteTime": {
     "end_time": "2022-01-30T01:25:07.254211Z",
     "start_time": "2022-01-30T01:25:07.250437Z"
    }
   },
   "outputs": [],
   "source": [
    "# Imports\n",
    "import json\n",
    "from pprint import pprint\n",
    "from collections import OrderedDict, defaultdict\n",
    "from rdflib import Graph, Namespace\n",
    "from rdflib.term import Literal, URIRef#, _castPythonToLiteral\n",
    "from rdflib.namespace import RDF, RDFS, OWL, XSD\n",
    "import uuid\n",
    "from urllib.parse import quote, unquote\n",
    "import logging"
   ]
  },
  {
   "cell_type": "code",
   "execution_count": 50,
   "metadata": {
    "ExecuteTime": {
     "end_time": "2022-01-29T22:30:36.768381Z",
     "start_time": "2022-01-29T22:30:36.765248Z"
    }
   },
   "outputs": [],
   "source": [
    "### Constants\n",
    "incident_filename = \"/Users/v685573/Documents/Development/VCDB/data/json/validated/61E18813-E1B8-424E-BD4A-BA4D665A4A6F.json\"\n",
    "schema_filename = \"/Users/v685573/Documents/Development/vzrisk/flow/verisc-owl.json\"\n",
    "attack_flow_namespace = \"https://vz-risk.github.io/flow/attack-flow#\"\n",
    "veris_namespace = \"https://veriscommunity.net/attack-flow#\"\n",
    "\n"
   ]
  },
  {
   "cell_type": "code",
   "execution_count": 174,
   "metadata": {
    "ExecuteTime": {
     "end_time": "2022-01-30T02:31:10.054354Z",
     "start_time": "2022-01-30T02:31:10.029583Z"
    }
   },
   "outputs": [],
   "source": [
    "### Functions\n",
    "def recurse_instances(d, lbl, owl=owl):\n",
    "    exclusions = [\"incident_id\", \"plus.master_id\", \"plus.created\", \"plus.analyst\", \"summary\"]\n",
    "    \n",
    "    for k, v in d.items():\n",
    "        try:\n",
    "            if type(v) in [OrderedDict, dict]:\n",
    "                #keys = keys.union(recurse_keys(v, (lbl + (k,)), keys))\n",
    "                recurse_instances(v, (lbl + (k,)), owl)\n",
    "            elif type(v) is list: \n",
    "                for item in v:\n",
    "                    if type(item) == dict:\n",
    "                        recurse_instances(item, (lbl + (k,)), owl)\n",
    "                    elif k == \"variety\":\n",
    "                        # convert it to a class instance of the parent class\n",
    "                        # add it to the incident\n",
    "                        instance_name = quote(item + \"_\" + str(enum_iterator[item] + 1))\n",
    "                        enum_iterator[item] += 1\n",
    "                        \n",
    "                        # define instance as an instance and an instance of something\n",
    "                        owl.add((i_ns[instance_name], RDF.type, OWL.NamedIndividual))\n",
    "                        owl.add((i_ns[instance_name], RDF.type, anchor_map.get(\".\".join(lbl), veris_ns[quote(\".\".join(lbl))])))\n",
    "                        \n",
    "                        # Connect instance to flow\n",
    "                        owl.add((i_ns[instance_name], af_ns['flow'], flowURI))\n",
    "\n",
    "                        # if action:\n",
    "                        if lbl[0] == \"action\":\n",
    "                            # (type) = 'action'\n",
    "                            # name = instance_name\n",
    "                            # description\n",
    "                            owl.add((i_ns[instance_name], af_ns[\"description.action\"], Literal(incident[\"action\"][lbl[1]].get(\"notes\", \"no decription\"))))\n",
    "                            # logic_operator = \"\"\n",
    "                            owl.add((i_ns[instance_name], af_ns['logic_operator'], Literal(\"OR\")))\n",
    "        except:\n",
    "            print(\"label: {0}, key: {1}, value: {2}\".format(lbl, k, v))\n",
    "            raise\n",
    "                      \n",
    "    return owl\n",
    "                        \n",
    "                        \n",
    "def recurse_properties(d, lbl, owl=owl):\n",
    "    exclusions = [\"incident_id\", \"plus.master_id\", \"plus.created\", \"plus.analyst\", \"summary\"]\n",
    "    \n",
    "    for k, v in d.items():\n",
    "        try:\n",
    "            if type(v) in [OrderedDict, dict]:\n",
    "                owl = recurse_properties(v, (lbl + (k,)), owl)\n",
    "                \n",
    "            elif k == \"variety\":\n",
    "                pass # varieties are all instances and should already be handled\n",
    "            \n",
    "            elif (type(v) is list):\n",
    "                for item in v:\n",
    "                    if type(item) == dict:\n",
    "                        recurse_properties(item, (lbl + (k,)), owl)\n",
    "                    else:\n",
    "                        # define it's flow\n",
    "                        owl.add((veris_ns[quote(\".\".join(lbl + (k, item)))], af_ns['flow'], flowURI))\n",
    "                        \n",
    "                        # if we know what instance it goes to, connect it.\n",
    "                        if str(veris_ns[quote(\".\".join(lbl))]) in instances.keys() and len(instances[str(veris_ns[quote(\".\".join(lbl))])]) == 1:\n",
    "                            owl.add((instances[str(veris_ns[quote(\".\".join(lbl))])][0], veris_ns[quote(\".\".join(lbl + (k, )))], veris_ns[quote(\".\".join(lbl + (k, item)))]))\n",
    "            elif (\".\".join((lbl + (k,str(v)))) in exclusions):\n",
    "                pass\n",
    "            \n",
    "            else:\n",
    "                if quote(\".\".join(lbl + (k,))) in obj_props:\n",
    "                    if str(veris_ns[quote(\".\".join(lbl))]) in instances.keys() and len(instances[str(veris_ns[quote(\".\".join(lbl))])]) == 1:\n",
    "                        owl.add((instances[str(veris_ns[quote(\".\".join(lbl))])][0], veris_ns[quote(\".\".join(lbl + (k, )))], veris_ns[quote(\".\".join(lbl + (k, v)))]))\n",
    "                    else:\n",
    "                        owl.add((veris_ns[quote(\".\".join(lbl[:-1]))], af_ns['flow'], flowURI))\n",
    "                        owl.add((veris_ns[quote(\".\".join(lbl[:-1]))], veris_ns[quote(\".\".join(lbl + (k, )))], veris_ns[quote(\".\".join(lbl + (k, v)))]))\n",
    "                elif quote(\".\".join(lbl + (k,))) in data_props:\n",
    "                    if str(veris_ns[quote(\".\".join(lbl))]) in instances.keys() and len(instances[str(veris_ns[quote(\".\".join(lbl))])]) == 1:\n",
    "                        owl.add((instances[str(veris_ns[quote(\".\".join(lbl))])][0], veris_ns[quote(\".\".join(lbl + (k, )))], Literal(v)))\n",
    "                    else:\n",
    "                        owl.add((veris_ns[quote(\".\".join(lbl))], af_ns['flow'], flowURI))\n",
    "                        owl.add((veris_ns[quote(\".\".join(lbl))], veris_ns[quote(\".\".join(lbl + (k, )))], Literal(v)))\n",
    "                else:\n",
    "                    logging.warning(\"{0} is not in the object property or datatype property lists.\".format(\".\".join(lbl + (k,))))\n",
    "                              \n",
    "        except:\n",
    "            print(\"label: {0}, key: {1}, value: {2}\".format(lbl, k, v))\n",
    "            raise\n",
    "               \n",
    "    return owl\n",
    "                              \n",
    "                              "
   ]
  },
  {
   "cell_type": "code",
   "execution_count": 175,
   "metadata": {
    "ExecuteTime": {
     "end_time": "2022-01-30T02:31:10.359692Z",
     "start_time": "2022-01-30T02:31:10.347925Z"
    }
   },
   "outputs": [],
   "source": [
    "def incident_to_owl(incident):\n",
    "    global obj_props, data_props, enum_iterator, anchor_map, flowURI, instances\n",
    "    \n",
    "    incident_filename = \"/Users/v685573/Documents/Development/VCDB/data/json/validated/61E18813-E1B8-424E-BD4A-BA4D665A4A6F.json\"\n",
    "    schema_filename = \"/Users/v685573/Documents/Development/vzrisk/flow/verisc-owl.jsonLD\"\n",
    "    attack_flow_namespace = \"https://vz-risk.github.io/flow/attack-flow#\"\n",
    "    veris_namespace = \"https://veriscommunity.net/attack-flow#\"\n",
    "    \n",
    "    # create namespace from victim_id\n",
    "    i_ns = Namespace(\"urn:absolute:\" + quote(incident['victim'].get('victim_id', uuid.uuid4()).lower()) + \"#\")\n",
    "    af_ns = Namespace(attack_flow_namespace)\n",
    "    veris_ns = Namespace(veris_namespace)\n",
    "    \n",
    "    # open veris schema\n",
    "    veris = Graph()\n",
    "    veris.parse(schema_filename)\n",
    "    # Get object and data properties so we know which are which when parsing them out of the incident\n",
    "    query = (\"\"\"SELECT DISTINCT  ?p \n",
    "    WHERE { \n",
    "      ?p rdf:type owl:ObjectProperty .\n",
    "    }\"\"\")\n",
    "    qres = veris.query(query)\n",
    "    obj_props = list(qres)\n",
    "    obj_props = [item[0].split(\"#\")[1] for item in obj_props]\n",
    "    query = (\"\"\"SELECT DISTINCT  ?p \n",
    "    WHERE { \n",
    "      ?p rdf:type owl:DatatypeProperty .\n",
    "    }\"\"\")\n",
    "    qres = veris.query(query)\n",
    "    data_props = list(qres)\n",
    "    data_props = [item[0].split(\"#\")[1] for item in data_props]   \n",
    "    # all we needed were the property lists\n",
    "    del(veris)\n",
    "    \n",
    "    # to number instances\n",
    "    enum_iterator = defaultdict(int)\n",
    "\n",
    "    # to map from veris_ns to attack flow ns\n",
    "    anchor_map = {\n",
    "        \"action\": af_ns[\"action\"],\n",
    "        \"asset\": af_ns[\"asset\"],\n",
    "        \"extra\": af_ns[\"property\"]\n",
    "    }\n",
    "    \n",
    "    # start the incident's graph\n",
    "    owl = Graph()\n",
    "    \n",
    "    ### create any manditory fields in AF\n",
    "    # Create flow instance, flow id\n",
    "    flowURI = i_ns[incident['plus']['master_id']] # to object\n",
    "    owl.add((flowURI, RDF.type, OWL.NamedIndividual))\n",
    "    owl.add((flowURI, RDF.type, af_ns['attack-flow']))\n",
    "    # flow name literal\n",
    "    owl.add((flowURI, af_ns['name.attack-flow'], Literal(incident['incident_id'])))\n",
    "    # flow created literal\n",
    "    owl.add((flowURI, af_ns['created'], Literal(incident['plus'].get(\"created\", \"1970-01-01T01:00:00Z\"))))\n",
    "    # flow author literal\n",
    "    owl.add((flowURI, af_ns['author'], Literal(incident['plus'].get(\"analyst\", \"Unknown\"))))\n",
    "    # flow description literal\n",
    "    owl.add((flowURI, af_ns['description.attack-flow'], Literal(incident['summary'])))\n",
    "    \n",
    "    recurse_instances(incident, (), owl)\n",
    "    \n",
    "    query = (\"\"\"SELECT DISTINCT  ?inst ?thing\n",
    "    WHERE { \n",
    "      ?inst rdf:type owl:NamedIndividual .\n",
    "      ?inst rdf:type ?thing .\n",
    "       FILTER (?thing != owl:NamedIndividual)\n",
    "    }\"\"\")\n",
    "    qres = oincident.query(query)\n",
    "    instances = defaultdict(set)\n",
    "    for inst,thing in qres:\n",
    "        instances[str(thing)].add(str(inst))\n",
    "    instances = dict()\n",
    "    instances = {k:list(v) for k,v in instances.items()}\n",
    "    \n",
    "    recurse_properties(incident, (), owl)    \n",
    "    \n",
    "    # Determine causal linkages between actions if possible (use value.chain and or single-action)\n",
    "    # TODO\n",
    "    \n",
    "    return(owl)"
   ]
  },
  {
   "cell_type": "code",
   "execution_count": 176,
   "metadata": {
    "ExecuteTime": {
     "end_time": "2022-01-30T02:31:10.920971Z",
     "start_time": "2022-01-30T02:31:10.916968Z"
    }
   },
   "outputs": [],
   "source": [
    "with open(incident_filename, 'r') as filehandle:\n",
    "    incident = json.load(filehandle)"
   ]
  },
  {
   "cell_type": "code",
   "execution_count": 177,
   "metadata": {
    "ExecuteTime": {
     "end_time": "2022-01-30T02:31:12.178862Z",
     "start_time": "2022-01-30T02:31:11.807050Z"
    }
   },
   "outputs": [
    {
     "name": "stderr",
     "output_type": "stream",
     "text": [
      "WARNING:root:plus.analysis_status is not in the object property or datatype property lists.\n",
      "WARNING:root:plus.analyst is not in the object property or datatype property lists.\n",
      "WARNING:root:plus.attribute.confidentiality.credit_monitoring is not in the object property or datatype property lists.\n",
      "WARNING:root:plus.created is not in the object property or datatype property lists.\n",
      "WARNING:root:plus.github is not in the object property or datatype property lists.\n",
      "WARNING:root:plus.modified is not in the object property or datatype property lists.\n",
      "WARNING:root:plus.timeline.notification.month is not in the object property or datatype property lists.\n",
      "WARNING:root:plus.timeline.notification.year is not in the object property or datatype property lists.\n"
     ]
    }
   ],
   "source": [
    "oincident = incident_to_owl(incident)"
   ]
  },
  {
   "cell_type": "code",
   "execution_count": 178,
   "metadata": {
    "ExecuteTime": {
     "end_time": "2022-01-30T02:31:18.844337Z",
     "start_time": "2022-01-30T02:31:18.834030Z"
    }
   },
   "outputs": [],
   "source": [
    "with open(\"/Users/v685573/Documents/Development/vzrisk/flow/61E18813-E1B8-424E-BD4A-BA4D665A4A6F.owl\", 'w') as filehandle:\n",
    "    filehandle.write(oincident.serialize(format=\"xml\"))"
   ]
  },
  {
   "cell_type": "code",
   "execution_count": 24,
   "metadata": {
    "ExecuteTime": {
     "end_time": "2022-01-29T18:08:07.622414Z",
     "start_time": "2022-01-29T18:08:07.338407Z"
    }
   },
   "outputs": [
    {
     "data": {
      "text/plain": [
       "<Graph identifier=N745bdef112eb4a909071cbf235a1de1d (<class 'rdflib.graph.Graph'>)>"
      ]
     },
     "execution_count": 24,
     "metadata": {},
     "output_type": "execute_result"
    }
   ],
   "source": [
    "schema = Graph()\n",
    "schema.parse(schema_filename)"
   ]
  },
  {
   "cell_type": "code",
   "execution_count": 20,
   "metadata": {
    "ExecuteTime": {
     "end_time": "2022-01-29T18:05:13.735803Z",
     "start_time": "2022-01-29T18:05:13.731254Z"
    }
   },
   "outputs": [
    {
     "data": {
      "text/plain": [
       "{(),\n",
       " ('action', 'hacking'),\n",
       " ('actor', 'external'),\n",
       " ('asset',),\n",
       " ('attribute', 'availability'),\n",
       " ('attribute', 'confidentiality'),\n",
       " ('attribute', 'integrity'),\n",
       " ('discovery_method', 'external'),\n",
       " ('impact',),\n",
       " ('plus',),\n",
       " ('plus', 'attribute', 'confidentiality'),\n",
       " ('plus', 'timeline', 'notification'),\n",
       " ('timeline', 'incident'),\n",
       " ('victim',)}"
      ]
     },
     "execution_count": 20,
     "metadata": {},
     "output_type": "execute_result"
    }
   ],
   "source": [
    "recurse_keys(incident, ())"
   ]
  },
  {
   "cell_type": "code",
   "execution_count": 15,
   "metadata": {
    "ExecuteTime": {
     "end_time": "2022-01-29T17:58:52.617890Z",
     "start_time": "2022-01-29T17:58:52.605864Z"
    },
    "scrolled": true
   },
   "outputs": [
    {
     "data": {
      "text/plain": [
       "{'action': {'hacking': {'variety': ['Unknown'],\n",
       "   'vector': ['Web application']}},\n",
       " 'actor': {'external': {'country': ['SY'],\n",
       "   'motive': ['Ideology'],\n",
       "   'notes': 'RedHack',\n",
       "   'region': ['142145'],\n",
       "   'variety': ['Activist']}},\n",
       " 'asset': {'assets': [{'variety': 'S - Web application'}],\n",
       "  'cloud': ['Unknown']},\n",
       " 'attribute': {'availability': {'variety': ['Loss']},\n",
       "  'confidentiality': {'data': [{'variety': 'Unknown'}],\n",
       "   'data_disclosure': 'Unknown',\n",
       "   'state': ['Unknown']},\n",
       "  'integrity': {'notes': 'defacement',\n",
       "   'variety': ['Modify data', 'Defacement']}},\n",
       " 'discovery_method': {'external': {'variety': ['Actor disclosure']}},\n",
       " 'impact': {'overall_rating': 'Unknown'},\n",
       " 'incident_id': '61E18813-E1B8-424E-BD4A-BA4D665A4A6F',\n",
       " 'plus': {'analysis_status': 'First pass',\n",
       "  'analyst': 'whbaker',\n",
       "  'attribute': {'confidentiality': {'credit_monitoring': 'Unknown'}},\n",
       "  'created': '2013-09-19T15:55:00Z',\n",
       "  'github': '219',\n",
       "  'master_id': '61E18813-E1B8-424E-BD4A-BA4D665A4A6F',\n",
       "  'modified': '2014-05-18T15:34:56Z',\n",
       "  'timeline': {'notification': {'month': 9, 'year': 2013}}},\n",
       " 'reference': 'http://hackread.com/628-websites-hacked-by-indonesian-hackers/',\n",
       " 'schema_version': '1.3.6',\n",
       " 'security_incident': 'Confirmed',\n",
       " 'source_id': 'vcdb',\n",
       " 'summary': 'Two Indonesian hackers going with the handle of SultanHaikal and Brian Kamikaze have hacked and defaced total 627 random websites under the banner of #OpFreeSyria. Among the hacked websites, 36 belongs to government of Indonesia and all other sites belong to private institutions and business from Indonesia.',\n",
       " 'timeline': {'incident': {'month': 9, 'year': 2013}},\n",
       " 'victim': {'country': ['ID'],\n",
       "  'employee_count': 'Unknown',\n",
       "  'government': ['NA'],\n",
       "  'industry': '000',\n",
       "  'region': ['142035'],\n",
       "  'victim_id': 'Mass Event'}}"
      ]
     },
     "execution_count": 15,
     "metadata": {},
     "output_type": "execute_result"
    }
   ],
   "source": [
    "incident"
   ]
  }
 ],
 "metadata": {
  "kernelspec": {
   "display_name": "Python 3",
   "language": "python",
   "name": "python3"
  },
  "language_info": {
   "codemirror_mode": {
    "name": "ipython",
    "version": 3
   },
   "file_extension": ".py",
   "mimetype": "text/x-python",
   "name": "python",
   "nbconvert_exporter": "python",
   "pygments_lexer": "ipython3",
   "version": "3.8.6"
  },
  "toc": {
   "base_numbering": 1,
   "nav_menu": {},
   "number_sections": true,
   "sideBar": true,
   "skip_h1_title": false,
   "title_cell": "Table of Contents",
   "title_sidebar": "Contents",
   "toc_cell": false,
   "toc_position": {},
   "toc_section_display": true,
   "toc_window_display": false
  }
 },
 "nbformat": 4,
 "nbformat_minor": 4
}
